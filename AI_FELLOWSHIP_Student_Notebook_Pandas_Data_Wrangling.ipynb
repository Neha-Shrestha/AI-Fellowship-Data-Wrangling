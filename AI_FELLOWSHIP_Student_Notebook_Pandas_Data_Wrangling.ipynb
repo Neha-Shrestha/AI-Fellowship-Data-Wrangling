{
  "cells": [
    {
      "cell_type": "markdown",
      "metadata": {
        "id": "p814sgXJERi0"
      },
      "source": [
        "![image](https://analyticsindiamag.com/wp-content/uploads/2020/04/Screenshot-2020-04-15-at-10.08.12-AM.png)"
      ]
    },
    {
      "cell_type": "markdown",
      "metadata": {
        "id": "0IFzERN2E3GJ"
      },
      "source": [
        "## Business Problem Understanding\n",
        "\n",
        "- According to the World Health Organization (WHO) stroke is the 2nd leading cause of death globally, responsible for approximately 11% of total deaths.\n",
        "\n",
        "- This dataset is used to predict whether a patient is likely to get stroke based on the input parameters like gender, age, various diseases, and smoking status.\n",
        "\n",
        "- Each row in the data provides relavant information about the patient.\n",
        "\n",
        "## Attribute Information\n",
        "- 1) id: unique identifier\n",
        "- 2) gender: \"Male\", \"Female\" or \"Other\"\n",
        "- 3) age: age of the patient\n",
        "- 4) hypertension: 0 if the patient doesn't have hypertension, 1 if the patient has hypertension\n",
        "- 5) heart_disease: 0 if the patient doesn't have any heart diseases, 1 if the patient has a heart disease\n",
        "- 6) ever_married: \"No\" or \"Yes\"\n",
        "- 7) work_type: \"children\", \"Govt_jov\", \"Never_worked\", \"Private\" or \"Self-employed\"\n",
        "- 8) Residence_type: \"Rural\" or \"Urban\"\n",
        "- 9) avg_glucose_level: average glucose level in blood\n",
        "- 10) bmi: body mass index\n",
        "- 11) smoking_status: \"formerly smoked\", \"never smoked\", \"smokes\" or \"Unknown\"*\n",
        "- 12) stroke: 1 if the patient had a stroke or 0 if not\n",
        "\n",
        "*Note: \"Unknown\" in smoking_status means that the information is unavailable for this patient\n",
        "\n"
      ]
    },
    {
      "cell_type": "markdown",
      "metadata": {
        "id": "c1HtQqj9F9vh"
      },
      "source": [
        "## Data Collection/Data Import"
      ]
    },
    {
      "cell_type": "markdown",
      "metadata": {
        "id": "6tqw3sJpFrG5"
      },
      "source": [
        "**The dataset is available at this google drive link:**\n",
        "**Use gdown to download this in the colab environment directly.**\n",
        "\n",
        "!gdown https://drive.google.com/uc?id=1vs0cmeKYeht_d07C1HvHFUIxD-IfEACL\n"
      ]
    },
    {
      "cell_type": "code",
      "execution_count": 1,
      "metadata": {
        "id": "wc7c2HmyDPlg"
      },
      "outputs": [],
      "source": [
        "## write your code here\n"
      ]
    },
    {
      "cell_type": "markdown",
      "metadata": {
        "id": "BcEVPy03Ef6X"
      },
      "source": [
        "## Importing Necessary libraries"
      ]
    },
    {
      "cell_type": "code",
      "execution_count": 2,
      "metadata": {
        "id": "WVMCc1INEhvr"
      },
      "outputs": [],
      "source": [
        "import os\n",
        "import gdown\n",
        "import numpy as np\n",
        "import pandas as pd\n",
        "import seaborn as sns\n",
        "import matplotlib.pyplot as plt"
      ]
    },
    {
      "cell_type": "markdown",
      "metadata": {
        "id": "gIPI9WxRGWvx"
      },
      "source": [
        "## Importing Data From CSV File Using Pandas"
      ]
    },
    {
      "cell_type": "code",
      "execution_count": 3,
      "metadata": {
        "id": "zIwmS8GTGWNr"
      },
      "outputs": [],
      "source": [
        "## write your code here\n",
        "file_path = \"stroke_data.csv\"\n",
        "df = pd.read_csv(file_path)"
      ]
    },
    {
      "cell_type": "markdown",
      "metadata": {
        "id": "LIC0Mi2kGlvc"
      },
      "source": [
        "## Data Understanding:"
      ]
    },
    {
      "cell_type": "markdown",
      "metadata": {
        "id": "0mSxRinbGgCh"
      },
      "source": [
        "### Print the first five rows of the pandas dataframe"
      ]
    },
    {
      "cell_type": "code",
      "execution_count": 4,
      "metadata": {
        "id": "6VMFr1B6GQri"
      },
      "outputs": [
        {
          "data": {
            "text/html": [
              "<div>\n",
              "<style scoped>\n",
              "    .dataframe tbody tr th:only-of-type {\n",
              "        vertical-align: middle;\n",
              "    }\n",
              "\n",
              "    .dataframe tbody tr th {\n",
              "        vertical-align: top;\n",
              "    }\n",
              "\n",
              "    .dataframe thead th {\n",
              "        text-align: right;\n",
              "    }\n",
              "</style>\n",
              "<table border=\"1\" class=\"dataframe\">\n",
              "  <thead>\n",
              "    <tr style=\"text-align: right;\">\n",
              "      <th></th>\n",
              "      <th>id</th>\n",
              "      <th>gender</th>\n",
              "      <th>age</th>\n",
              "      <th>height_in_m</th>\n",
              "      <th>weight_in_kg</th>\n",
              "      <th>avg_glucose_level</th>\n",
              "      <th>bmi</th>\n",
              "      <th>smoking_status</th>\n",
              "      <th>hypertension</th>\n",
              "      <th>heart_disease</th>\n",
              "      <th>ever_married</th>\n",
              "      <th>work_type</th>\n",
              "      <th>Residence_type</th>\n",
              "      <th>stroke</th>\n",
              "    </tr>\n",
              "  </thead>\n",
              "  <tbody>\n",
              "    <tr>\n",
              "      <th>0</th>\n",
              "      <td>9046</td>\n",
              "      <td>Male</td>\n",
              "      <td>67.0</td>\n",
              "      <td>1.82880</td>\n",
              "      <td>122.409046</td>\n",
              "      <td>169.35</td>\n",
              "      <td>36.6</td>\n",
              "      <td>formerly smoked</td>\n",
              "      <td>0</td>\n",
              "      <td>1</td>\n",
              "      <td>Yes</td>\n",
              "      <td>Private</td>\n",
              "      <td>Urban</td>\n",
              "      <td>1</td>\n",
              "    </tr>\n",
              "    <tr>\n",
              "      <th>1</th>\n",
              "      <td>51676</td>\n",
              "      <td>Female</td>\n",
              "      <td>61.0</td>\n",
              "      <td>1.64592</td>\n",
              "      <td>NaN</td>\n",
              "      <td>169.35</td>\n",
              "      <td>NaN</td>\n",
              "      <td>never smoked</td>\n",
              "      <td>0</td>\n",
              "      <td>0</td>\n",
              "      <td>Yes</td>\n",
              "      <td>Self-employed</td>\n",
              "      <td>Rural</td>\n",
              "      <td>1</td>\n",
              "    </tr>\n",
              "    <tr>\n",
              "      <th>2</th>\n",
              "      <td>31112</td>\n",
              "      <td>Male</td>\n",
              "      <td>80.0</td>\n",
              "      <td>1.79832</td>\n",
              "      <td>105.103532</td>\n",
              "      <td>105.92</td>\n",
              "      <td>32.5</td>\n",
              "      <td>never smoked</td>\n",
              "      <td>0</td>\n",
              "      <td>1</td>\n",
              "      <td>Yes</td>\n",
              "      <td>Private</td>\n",
              "      <td>Rural</td>\n",
              "      <td>1</td>\n",
              "    </tr>\n",
              "    <tr>\n",
              "      <th>3</th>\n",
              "      <td>60182</td>\n",
              "      <td>Female</td>\n",
              "      <td>49.0</td>\n",
              "      <td>1.92024</td>\n",
              "      <td>126.843865</td>\n",
              "      <td>169.35</td>\n",
              "      <td>34.4</td>\n",
              "      <td>smokes</td>\n",
              "      <td>0</td>\n",
              "      <td>0</td>\n",
              "      <td>Yes</td>\n",
              "      <td>Private</td>\n",
              "      <td>Urban</td>\n",
              "      <td>1</td>\n",
              "    </tr>\n",
              "    <tr>\n",
              "      <th>4</th>\n",
              "      <td>1665</td>\n",
              "      <td>female</td>\n",
              "      <td>79.0</td>\n",
              "      <td>1.85928</td>\n",
              "      <td>82.966131</td>\n",
              "      <td>169.35</td>\n",
              "      <td>24.0</td>\n",
              "      <td>never smoked</td>\n",
              "      <td>1</td>\n",
              "      <td>0</td>\n",
              "      <td>Yes</td>\n",
              "      <td>Self-employed</td>\n",
              "      <td>Rural</td>\n",
              "      <td>1</td>\n",
              "    </tr>\n",
              "  </tbody>\n",
              "</table>\n",
              "</div>"
            ],
            "text/plain": [
              "      id  gender   age  height_in_m  weight_in_kg  avg_glucose_level   bmi  \\\n",
              "0   9046    Male  67.0      1.82880    122.409046             169.35  36.6   \n",
              "1  51676  Female  61.0      1.64592           NaN             169.35   NaN   \n",
              "2  31112    Male  80.0      1.79832    105.103532             105.92  32.5   \n",
              "3  60182  Female  49.0      1.92024    126.843865             169.35  34.4   \n",
              "4   1665  female  79.0      1.85928     82.966131             169.35  24.0   \n",
              "\n",
              "    smoking_status  hypertension  heart_disease ever_married      work_type  \\\n",
              "0  formerly smoked             0              1          Yes        Private   \n",
              "1     never smoked             0              0          Yes  Self-employed   \n",
              "2     never smoked             0              1          Yes        Private   \n",
              "3           smokes             0              0          Yes        Private   \n",
              "4     never smoked             1              0          Yes  Self-employed   \n",
              "\n",
              "  Residence_type  stroke  \n",
              "0          Urban       1  \n",
              "1          Rural       1  \n",
              "2          Rural       1  \n",
              "3          Urban       1  \n",
              "4          Rural       1  "
            ]
          },
          "execution_count": 4,
          "metadata": {},
          "output_type": "execute_result"
        }
      ],
      "source": [
        "## write your code here\n",
        "df.head()"
      ]
    },
    {
      "cell_type": "markdown",
      "metadata": {
        "id": "aMPQwK1CG4N4"
      },
      "source": [
        "## Print the last five rows of the pandas dataframe"
      ]
    },
    {
      "cell_type": "code",
      "execution_count": 5,
      "metadata": {
        "id": "ETMqdQzIGqwm"
      },
      "outputs": [
        {
          "data": {
            "text/html": [
              "<div>\n",
              "<style scoped>\n",
              "    .dataframe tbody tr th:only-of-type {\n",
              "        vertical-align: middle;\n",
              "    }\n",
              "\n",
              "    .dataframe tbody tr th {\n",
              "        vertical-align: top;\n",
              "    }\n",
              "\n",
              "    .dataframe thead th {\n",
              "        text-align: right;\n",
              "    }\n",
              "</style>\n",
              "<table border=\"1\" class=\"dataframe\">\n",
              "  <thead>\n",
              "    <tr style=\"text-align: right;\">\n",
              "      <th></th>\n",
              "      <th>id</th>\n",
              "      <th>gender</th>\n",
              "      <th>age</th>\n",
              "      <th>height_in_m</th>\n",
              "      <th>weight_in_kg</th>\n",
              "      <th>avg_glucose_level</th>\n",
              "      <th>bmi</th>\n",
              "      <th>smoking_status</th>\n",
              "      <th>hypertension</th>\n",
              "      <th>heart_disease</th>\n",
              "      <th>ever_married</th>\n",
              "      <th>work_type</th>\n",
              "      <th>Residence_type</th>\n",
              "      <th>stroke</th>\n",
              "    </tr>\n",
              "  </thead>\n",
              "  <tbody>\n",
              "    <tr>\n",
              "      <th>5130</th>\n",
              "      <td>46373</td>\n",
              "      <td>Female</td>\n",
              "      <td>57.0</td>\n",
              "      <td>1.67640</td>\n",
              "      <td>72.506178</td>\n",
              "      <td>169.97</td>\n",
              "      <td>25.8</td>\n",
              "      <td>never smoked</td>\n",
              "      <td>0</td>\n",
              "      <td>0</td>\n",
              "      <td>Yes</td>\n",
              "      <td>Private</td>\n",
              "      <td>Rural</td>\n",
              "      <td>0</td>\n",
              "    </tr>\n",
              "    <tr>\n",
              "      <th>5131</th>\n",
              "      <td>40112</td>\n",
              "      <td>Female</td>\n",
              "      <td>37.0</td>\n",
              "      <td>1.92024</td>\n",
              "      <td>92.551774</td>\n",
              "      <td>118.41</td>\n",
              "      <td>25.1</td>\n",
              "      <td>never smoked</td>\n",
              "      <td>0</td>\n",
              "      <td>0</td>\n",
              "      <td>No</td>\n",
              "      <td>Private</td>\n",
              "      <td>Urban</td>\n",
              "      <td>0</td>\n",
              "    </tr>\n",
              "    <tr>\n",
              "      <th>5132</th>\n",
              "      <td>32240</td>\n",
              "      <td>Female</td>\n",
              "      <td>27.0</td>\n",
              "      <td>1.82880</td>\n",
              "      <td>139.131593</td>\n",
              "      <td>93.55</td>\n",
              "      <td>41.6</td>\n",
              "      <td>never smoked</td>\n",
              "      <td>0</td>\n",
              "      <td>0</td>\n",
              "      <td>No</td>\n",
              "      <td>Private</td>\n",
              "      <td>Urban</td>\n",
              "      <td>0</td>\n",
              "    </tr>\n",
              "    <tr>\n",
              "      <th>5133</th>\n",
              "      <td>69312</td>\n",
              "      <td>Female</td>\n",
              "      <td>48.0</td>\n",
              "      <td>1.58496</td>\n",
              "      <td>78.377464</td>\n",
              "      <td>99.29</td>\n",
              "      <td>31.2</td>\n",
              "      <td>never smoked</td>\n",
              "      <td>0</td>\n",
              "      <td>0</td>\n",
              "      <td>Yes</td>\n",
              "      <td>Self-employed</td>\n",
              "      <td>Urban</td>\n",
              "      <td>0</td>\n",
              "    </tr>\n",
              "    <tr>\n",
              "      <th>5134</th>\n",
              "      <td>25763</td>\n",
              "      <td>Female</td>\n",
              "      <td>23.0</td>\n",
              "      <td>1.64592</td>\n",
              "      <td>76.666190</td>\n",
              "      <td>98.66</td>\n",
              "      <td>28.3</td>\n",
              "      <td>Unknown</td>\n",
              "      <td>0</td>\n",
              "      <td>0</td>\n",
              "      <td>No</td>\n",
              "      <td>Private</td>\n",
              "      <td>Urban</td>\n",
              "      <td>0</td>\n",
              "    </tr>\n",
              "  </tbody>\n",
              "</table>\n",
              "</div>"
            ],
            "text/plain": [
              "         id  gender   age  height_in_m  weight_in_kg  avg_glucose_level   bmi  \\\n",
              "5130  46373  Female  57.0      1.67640     72.506178             169.97  25.8   \n",
              "5131  40112  Female  37.0      1.92024     92.551774             118.41  25.1   \n",
              "5132  32240  Female  27.0      1.82880    139.131593              93.55  41.6   \n",
              "5133  69312  Female  48.0      1.58496     78.377464              99.29  31.2   \n",
              "5134  25763  Female  23.0      1.64592     76.666190              98.66  28.3   \n",
              "\n",
              "     smoking_status  hypertension  heart_disease ever_married      work_type  \\\n",
              "5130   never smoked             0              0          Yes        Private   \n",
              "5131   never smoked             0              0           No        Private   \n",
              "5132   never smoked             0              0           No        Private   \n",
              "5133   never smoked             0              0          Yes  Self-employed   \n",
              "5134        Unknown             0              0           No        Private   \n",
              "\n",
              "     Residence_type  stroke  \n",
              "5130          Rural       0  \n",
              "5131          Urban       0  \n",
              "5132          Urban       0  \n",
              "5133          Urban       0  \n",
              "5134          Urban       0  "
            ]
          },
          "execution_count": 5,
          "metadata": {},
          "output_type": "execute_result"
        }
      ],
      "source": [
        "## write your code here\n",
        "df.tail()"
      ]
    },
    {
      "cell_type": "markdown",
      "metadata": {
        "id": "IzKZZ5aTG_SE"
      },
      "source": [
        "## What is the shape of the dataset?"
      ]
    },
    {
      "cell_type": "code",
      "execution_count": 6,
      "metadata": {
        "id": "Z2GuUdYEG8zb"
      },
      "outputs": [
        {
          "data": {
            "text/plain": [
              "(5135, 14)"
            ]
          },
          "execution_count": 6,
          "metadata": {},
          "output_type": "execute_result"
        }
      ],
      "source": [
        "## write your code here\n",
        "df.shape"
      ]
    },
    {
      "cell_type": "markdown",
      "metadata": {
        "id": "SezKlK60HIaF"
      },
      "source": [
        "## What are the name of the columns in the dataframe?"
      ]
    },
    {
      "cell_type": "code",
      "execution_count": 7,
      "metadata": {
        "id": "v6NSIuTcHEaO"
      },
      "outputs": [
        {
          "data": {
            "text/plain": [
              "Index(['id', 'gender', 'age', 'height_in_m', 'weight_in_kg',\n",
              "       'avg_glucose_level', 'bmi', 'smoking_status', 'hypertension',\n",
              "       'heart_disease', 'ever_married', 'work_type', 'Residence_type',\n",
              "       'stroke'],\n",
              "      dtype='object')"
            ]
          },
          "execution_count": 7,
          "metadata": {},
          "output_type": "execute_result"
        }
      ],
      "source": [
        "## write your code here\n",
        "df.columns"
      ]
    },
    {
      "cell_type": "markdown",
      "metadata": {
        "id": "sxCe3aFGHPqT"
      },
      "source": [
        "### What are the datatypes of each feature in the dataset?"
      ]
    },
    {
      "cell_type": "code",
      "execution_count": 71,
      "metadata": {},
      "outputs": [
        {
          "name": "stdout",
          "output_type": "stream",
          "text": [
            "<class 'pandas.core.frame.DataFrame'>\n",
            "RangeIndex: 5135 entries, 0 to 5134\n",
            "Data columns (total 14 columns):\n",
            " #   Column             Non-Null Count  Dtype  \n",
            "---  ------             --------------  -----  \n",
            " 0   id                 5135 non-null   int64  \n",
            " 1   gender             5135 non-null   object \n",
            " 2   age                5135 non-null   float64\n",
            " 3   height_in_m        5135 non-null   float64\n",
            " 4   weight_in_kg       4934 non-null   float64\n",
            " 5   avg_glucose_level  5135 non-null   float64\n",
            " 6   bmi                4934 non-null   float64\n",
            " 7   smoking_status     5135 non-null   object \n",
            " 8   hypertension       5135 non-null   int64  \n",
            " 9   heart_disease      5135 non-null   int64  \n",
            " 10  ever_married       4933 non-null   object \n",
            " 11  work_type          5135 non-null   object \n",
            " 12  Residence_type     5135 non-null   object \n",
            " 13  stroke             5135 non-null   int64  \n",
            "dtypes: float64(5), int64(4), object(5)\n",
            "memory usage: 561.8+ KB\n"
          ]
        }
      ],
      "source": [
        "df.info()"
      ]
    },
    {
      "cell_type": "code",
      "execution_count": 8,
      "metadata": {
        "id": "nORQCnZKHNed"
      },
      "outputs": [
        {
          "data": {
            "text/plain": [
              "id                     int64\n",
              "gender                object\n",
              "age                  float64\n",
              "height_in_m          float64\n",
              "weight_in_kg         float64\n",
              "avg_glucose_level    float64\n",
              "bmi                  float64\n",
              "smoking_status        object\n",
              "hypertension           int64\n",
              "heart_disease          int64\n",
              "ever_married          object\n",
              "work_type             object\n",
              "Residence_type        object\n",
              "stroke                 int64\n",
              "dtype: object"
            ]
          },
          "execution_count": 8,
          "metadata": {},
          "output_type": "execute_result"
        }
      ],
      "source": [
        "## write your code here\n",
        "df.dtypes"
      ]
    },
    {
      "cell_type": "markdown",
      "metadata": {
        "id": "BTrz_4nDKRIY"
      },
      "source": [
        "## Descriptive Statistics\n",
        "\n",
        "Descriptive statistics involve a set of summary measures that provide a snapshot of the dataset's characteristics. These measures help us understand the distribution, central tendency, and variability within the data.\n",
        "\n",
        "- Mean: The average value of the data.\n",
        "- Median: The middle value when the data is sorted.\n",
        "- Mode: The most frequently occurring value.\n",
        "- Range: The difference between the maximum and minimum values.\n",
        "- Standard Deviation: A more interpretable measure of data spread.\n",
        "These statistics provide a preliminary understanding of the dataset, which is valuable for subsequent analysis and decision-making.\n",
        "\n"
      ]
    },
    {
      "cell_type": "markdown",
      "metadata": {
        "id": "PJh2DGMuKdc-"
      },
      "source": [
        "### How to see the descriptive statistics of a dataset?"
      ]
    },
    {
      "cell_type": "code",
      "execution_count": 9,
      "metadata": {
        "id": "OMzcCYTzKYpc"
      },
      "outputs": [
        {
          "data": {
            "text/html": [
              "<div>\n",
              "<style scoped>\n",
              "    .dataframe tbody tr th:only-of-type {\n",
              "        vertical-align: middle;\n",
              "    }\n",
              "\n",
              "    .dataframe tbody tr th {\n",
              "        vertical-align: top;\n",
              "    }\n",
              "\n",
              "    .dataframe thead th {\n",
              "        text-align: right;\n",
              "    }\n",
              "</style>\n",
              "<table border=\"1\" class=\"dataframe\">\n",
              "  <thead>\n",
              "    <tr style=\"text-align: right;\">\n",
              "      <th></th>\n",
              "      <th>id</th>\n",
              "      <th>age</th>\n",
              "      <th>height_in_m</th>\n",
              "      <th>weight_in_kg</th>\n",
              "      <th>avg_glucose_level</th>\n",
              "      <th>bmi</th>\n",
              "      <th>hypertension</th>\n",
              "      <th>heart_disease</th>\n",
              "      <th>stroke</th>\n",
              "    </tr>\n",
              "  </thead>\n",
              "  <tbody>\n",
              "    <tr>\n",
              "      <th>count</th>\n",
              "      <td>5135.000000</td>\n",
              "      <td>5135.000000</td>\n",
              "      <td>5135.000000</td>\n",
              "      <td>4934.000000</td>\n",
              "      <td>5135.000000</td>\n",
              "      <td>4934.000000</td>\n",
              "      <td>5135.000000</td>\n",
              "      <td>5135.000000</td>\n",
              "      <td>5135.000000</td>\n",
              "    </tr>\n",
              "    <tr>\n",
              "      <th>mean</th>\n",
              "      <td>36510.305940</td>\n",
              "      <td>43.237390</td>\n",
              "      <td>1.751992</td>\n",
              "      <td>89.172256</td>\n",
              "      <td>101.383180</td>\n",
              "      <td>28.899959</td>\n",
              "      <td>0.097176</td>\n",
              "      <td>0.053944</td>\n",
              "      <td>0.048491</td>\n",
              "    </tr>\n",
              "    <tr>\n",
              "      <th>std</th>\n",
              "      <td>21153.824243</td>\n",
              "      <td>22.601553</td>\n",
              "      <td>0.132236</td>\n",
              "      <td>27.910274</td>\n",
              "      <td>34.605155</td>\n",
              "      <td>7.847094</td>\n",
              "      <td>0.296226</td>\n",
              "      <td>0.225928</td>\n",
              "      <td>0.214822</td>\n",
              "    </tr>\n",
              "    <tr>\n",
              "      <th>min</th>\n",
              "      <td>67.000000</td>\n",
              "      <td>0.080000</td>\n",
              "      <td>1.524000</td>\n",
              "      <td>32.516064</td>\n",
              "      <td>55.120000</td>\n",
              "      <td>10.300000</td>\n",
              "      <td>0.000000</td>\n",
              "      <td>0.000000</td>\n",
              "      <td>0.000000</td>\n",
              "    </tr>\n",
              "    <tr>\n",
              "      <th>25%</th>\n",
              "      <td>17757.000000</td>\n",
              "      <td>25.000000</td>\n",
              "      <td>1.645920</td>\n",
              "      <td>69.416594</td>\n",
              "      <td>77.285000</td>\n",
              "      <td>23.500000</td>\n",
              "      <td>0.000000</td>\n",
              "      <td>0.000000</td>\n",
              "      <td>0.000000</td>\n",
              "    </tr>\n",
              "    <tr>\n",
              "      <th>50%</th>\n",
              "      <td>36896.000000</td>\n",
              "      <td>45.000000</td>\n",
              "      <td>1.737360</td>\n",
              "      <td>85.357641</td>\n",
              "      <td>91.850000</td>\n",
              "      <td>28.100000</td>\n",
              "      <td>0.000000</td>\n",
              "      <td>0.000000</td>\n",
              "      <td>0.000000</td>\n",
              "    </tr>\n",
              "    <tr>\n",
              "      <th>75%</th>\n",
              "      <td>54631.500000</td>\n",
              "      <td>61.000000</td>\n",
              "      <td>1.859280</td>\n",
              "      <td>104.671347</td>\n",
              "      <td>113.985000</td>\n",
              "      <td>33.100000</td>\n",
              "      <td>0.000000</td>\n",
              "      <td>0.000000</td>\n",
              "      <td>0.000000</td>\n",
              "    </tr>\n",
              "    <tr>\n",
              "      <th>max</th>\n",
              "      <td>72940.000000</td>\n",
              "      <td>82.000000</td>\n",
              "      <td>1.981200</td>\n",
              "      <td>348.548423</td>\n",
              "      <td>271.740000</td>\n",
              "      <td>97.600000</td>\n",
              "      <td>1.000000</td>\n",
              "      <td>1.000000</td>\n",
              "      <td>1.000000</td>\n",
              "    </tr>\n",
              "  </tbody>\n",
              "</table>\n",
              "</div>"
            ],
            "text/plain": [
              "                 id          age  height_in_m  weight_in_kg  \\\n",
              "count   5135.000000  5135.000000  5135.000000   4934.000000   \n",
              "mean   36510.305940    43.237390     1.751992     89.172256   \n",
              "std    21153.824243    22.601553     0.132236     27.910274   \n",
              "min       67.000000     0.080000     1.524000     32.516064   \n",
              "25%    17757.000000    25.000000     1.645920     69.416594   \n",
              "50%    36896.000000    45.000000     1.737360     85.357641   \n",
              "75%    54631.500000    61.000000     1.859280    104.671347   \n",
              "max    72940.000000    82.000000     1.981200    348.548423   \n",
              "\n",
              "       avg_glucose_level          bmi  hypertension  heart_disease  \\\n",
              "count        5135.000000  4934.000000   5135.000000    5135.000000   \n",
              "mean          101.383180    28.899959      0.097176       0.053944   \n",
              "std            34.605155     7.847094      0.296226       0.225928   \n",
              "min            55.120000    10.300000      0.000000       0.000000   \n",
              "25%            77.285000    23.500000      0.000000       0.000000   \n",
              "50%            91.850000    28.100000      0.000000       0.000000   \n",
              "75%           113.985000    33.100000      0.000000       0.000000   \n",
              "max           271.740000    97.600000      1.000000       1.000000   \n",
              "\n",
              "            stroke  \n",
              "count  5135.000000  \n",
              "mean      0.048491  \n",
              "std       0.214822  \n",
              "min       0.000000  \n",
              "25%       0.000000  \n",
              "50%       0.000000  \n",
              "75%       0.000000  \n",
              "max       1.000000  "
            ]
          },
          "execution_count": 9,
          "metadata": {},
          "output_type": "execute_result"
        }
      ],
      "source": [
        "## write your code here?\n",
        "df.describe()"
      ]
    },
    {
      "cell_type": "markdown",
      "metadata": {
        "id": "jYm5dkRQHdQh"
      },
      "source": [
        "## How to select gender column from the pandas dataframe?"
      ]
    },
    {
      "cell_type": "code",
      "execution_count": 10,
      "metadata": {
        "id": "K1Quzev3HWX5"
      },
      "outputs": [],
      "source": [
        "## write your code here\n"
      ]
    },
    {
      "cell_type": "markdown",
      "metadata": {
        "id": "O87Q-Pv2HuSV"
      },
      "source": [
        "### How to select multiple columns : age, gender and bmi?"
      ]
    },
    {
      "cell_type": "code",
      "execution_count": 11,
      "metadata": {
        "id": "LhyYmkTKHm0A"
      },
      "outputs": [],
      "source": [
        "## write your code here\n"
      ]
    },
    {
      "cell_type": "markdown",
      "metadata": {
        "id": "Na9-3HaAH-T2"
      },
      "source": [
        "## How to select the 7th row of the pandas dataframe?\n"
      ]
    },
    {
      "cell_type": "code",
      "execution_count": 12,
      "metadata": {
        "id": "DxKWEAGaH2FZ"
      },
      "outputs": [],
      "source": [
        "## write your code here\n"
      ]
    },
    {
      "cell_type": "markdown",
      "metadata": {
        "id": "SWKXH7e0IHVF"
      },
      "source": [
        "## How to select the 4th column from the pandas dataframe?\n"
      ]
    },
    {
      "cell_type": "code",
      "execution_count": 13,
      "metadata": {
        "id": "18TwG_-gICUV"
      },
      "outputs": [],
      "source": [
        "## write your code here\n"
      ]
    },
    {
      "cell_type": "markdown",
      "metadata": {
        "id": "2mMuMgLRIbek"
      },
      "source": [
        "## How to select 20th to 30th row and 3rd to 7th column in pandas dataframe?"
      ]
    },
    {
      "cell_type": "code",
      "execution_count": 14,
      "metadata": {
        "id": "M6MQ0GBAIPet"
      },
      "outputs": [],
      "source": [
        "## write your code here\n"
      ]
    },
    {
      "cell_type": "markdown",
      "metadata": {
        "id": "mOYlOO6IIpvf"
      },
      "source": [
        "## How to select 3rd and 100th row & 4th and 10th column in a pandas dataframe?"
      ]
    },
    {
      "cell_type": "code",
      "execution_count": 15,
      "metadata": {
        "id": "RZBxJJuaIe5k"
      },
      "outputs": [],
      "source": [
        "## write your code here\n"
      ]
    },
    {
      "cell_type": "markdown",
      "metadata": {
        "id": "qJDMEk3XJBKL"
      },
      "source": [
        "## Select only those rows with gender 'Male'"
      ]
    },
    {
      "cell_type": "code",
      "execution_count": 16,
      "metadata": {
        "id": "Onnpibs2I0gm"
      },
      "outputs": [],
      "source": [
        "## write your code here\n"
      ]
    },
    {
      "cell_type": "markdown",
      "metadata": {
        "id": "l8shY_roJbQr"
      },
      "source": [
        "## Select all those rows which have avg_glucose_level greater than 100 and columns gender, age, bmi and avg_glucose_level"
      ]
    },
    {
      "cell_type": "code",
      "execution_count": 17,
      "metadata": {
        "id": "vBmeU7h7JIk6"
      },
      "outputs": [],
      "source": [
        "## write your code here\n"
      ]
    },
    {
      "cell_type": "markdown",
      "metadata": {
        "id": "ZPwD6WERJxfG"
      },
      "source": [
        "## Select all those Females who are greater than 50 years old?"
      ]
    },
    {
      "cell_type": "code",
      "execution_count": 18,
      "metadata": {
        "id": "uXYoVDsvJk0c"
      },
      "outputs": [],
      "source": [
        "## write your code here\n"
      ]
    },
    {
      "cell_type": "markdown",
      "metadata": {
        "id": "MoGtqDg-LDUQ"
      },
      "source": [
        "## Data Wrangling\n",
        "\n",
        "- Data Inspection\n",
        "  - Checking Duplicate Enties\n",
        "  - Checking Missing Values\n",
        "  - Checking standard format\n",
        "  - Checking data entry typos and errors\n",
        "- Data Cleaning\n",
        "  - Removing Duplicates\n",
        "  - Handling Missing Values\n",
        "  - Standardizing Formats\n",
        "  - Correcting Errors\n",
        "- Data Transformation\n",
        "  - Feature Engineering\n",
        "  - Normalization/Scaling\n",
        "  - One-Hot Encoding\n",
        "- Data Integration\n",
        "- Data Reduction\n",
        "- Data Formatting\n",
        "- Data Enrichment\n",
        "- Data Validation\n",
        "- Documentation\n",
        "- Exploratory Data Analysis (EDA)\n"
      ]
    },
    {
      "cell_type": "markdown",
      "metadata": {
        "id": "Tv59NmshLk9h"
      },
      "source": [
        "### Checking Duplicate Entries\n",
        "- Check if duplicate entries are present or not.\n",
        "- If present find how many of duplicate entries are there?"
      ]
    },
    {
      "cell_type": "code",
      "execution_count": 19,
      "metadata": {
        "id": "Lv4Gcme6KDXH"
      },
      "outputs": [],
      "source": [
        "## write your code here\n"
      ]
    },
    {
      "cell_type": "code",
      "execution_count": 20,
      "metadata": {
        "id": "ZvMjZ2T-KpId"
      },
      "outputs": [],
      "source": [
        "## write your code here\n"
      ]
    },
    {
      "cell_type": "markdown",
      "metadata": {
        "id": "uBv2FTw7L7gK"
      },
      "source": [
        "## Remove Duplicate Entries\n",
        "\n",
        "- Remove all those rows which has duplicate entries"
      ]
    },
    {
      "cell_type": "code",
      "execution_count": 21,
      "metadata": {
        "id": "VUKSJBHbLtHB"
      },
      "outputs": [],
      "source": [
        "## write your code here\n"
      ]
    },
    {
      "cell_type": "code",
      "execution_count": 22,
      "metadata": {
        "id": "Rn_WXSMUMEJI"
      },
      "outputs": [],
      "source": [
        "## write your code here\n"
      ]
    },
    {
      "cell_type": "markdown",
      "metadata": {
        "id": "ZIQdCWmjMi8R"
      },
      "source": [
        "## Checking Missing Values\n",
        "- Find missing values (NAN) values in the datasets\n",
        "- Find columns which has missing values with their frequency"
      ]
    },
    {
      "cell_type": "code",
      "execution_count": 23,
      "metadata": {
        "id": "v8cakW4cMNKi"
      },
      "outputs": [],
      "source": [
        "## write your code here\n"
      ]
    },
    {
      "cell_type": "markdown",
      "metadata": {
        "id": "wbKDGBTGMwof"
      },
      "source": [
        "## Visualize missing values using heatmaps"
      ]
    },
    {
      "cell_type": "code",
      "execution_count": 24,
      "metadata": {
        "id": "UvY_SV-TMNNX"
      },
      "outputs": [],
      "source": [
        "## write your code here\n"
      ]
    },
    {
      "cell_type": "markdown",
      "metadata": {
        "id": "DcrkiP18NfjW"
      },
      "source": [
        "## Handling Missing Values\n",
        "\n",
        "- Handle missing values for ever_married column, avg_glucose_level and weight_in_kg column"
      ]
    },
    {
      "cell_type": "code",
      "execution_count": 25,
      "metadata": {
        "id": "2-idkbgOMNP9"
      },
      "outputs": [],
      "source": [
        "## write your code here\n"
      ]
    },
    {
      "cell_type": "code",
      "execution_count": 26,
      "metadata": {
        "id": "DL0S3d5FMNS9"
      },
      "outputs": [],
      "source": [
        "## write your code here\n"
      ]
    },
    {
      "cell_type": "code",
      "execution_count": 27,
      "metadata": {
        "id": "8FNdApHgNoSv"
      },
      "outputs": [],
      "source": [
        "## write your code here\n",
        "\n"
      ]
    },
    {
      "cell_type": "code",
      "execution_count": 28,
      "metadata": {
        "id": "8VV8AGgFN6VT"
      },
      "outputs": [],
      "source": [
        "## write your code here\n",
        "\n"
      ]
    },
    {
      "cell_type": "markdown",
      "metadata": {
        "id": "ss5BBdL5nhII"
      },
      "source": [
        "## Checking missing values for weight_in_kg and bmi columns"
      ]
    },
    {
      "cell_type": "code",
      "execution_count": 29,
      "metadata": {
        "id": "6tyjr5pmOhye"
      },
      "outputs": [],
      "source": [
        "## write your code here\n"
      ]
    },
    {
      "cell_type": "code",
      "execution_count": 30,
      "metadata": {
        "id": "GVvrnFyfOdVN"
      },
      "outputs": [],
      "source": [
        "## write your code here\n"
      ]
    },
    {
      "cell_type": "markdown",
      "metadata": {
        "id": "fAQrvTXqnq9R"
      },
      "source": [
        "## Check relationship between bmi and height_in_m whether it can be used to fill missing values in bmi (use scatterplot to visually inspect relationship)\n"
      ]
    },
    {
      "cell_type": "code",
      "execution_count": 31,
      "metadata": {
        "id": "Gokj-af6OfRj"
      },
      "outputs": [],
      "source": [
        "## write your code here\n"
      ]
    },
    {
      "cell_type": "code",
      "execution_count": 32,
      "metadata": {
        "id": "Ke6kWxX_PIBj"
      },
      "outputs": [],
      "source": [
        "## write your code here\n"
      ]
    },
    {
      "cell_type": "code",
      "execution_count": 33,
      "metadata": {
        "id": "GB1WVuZOPWb1"
      },
      "outputs": [],
      "source": [
        "## write your code here\n"
      ]
    },
    {
      "cell_type": "code",
      "execution_count": 34,
      "metadata": {
        "id": "Bdh26tyKPhPP"
      },
      "outputs": [],
      "source": [
        "## write your code here\n"
      ]
    },
    {
      "cell_type": "markdown",
      "metadata": {
        "id": "G5oV7TZHP_h3"
      },
      "source": [
        "## Exploratory Data Analysis\n",
        "\n",
        "- Univariate Analysis: Studying one variable at a time\n",
        "- Bivariate Analysis: Studying two variables at a time\n",
        "- Multivariate Analysis: Studying multiple variables at a time\n",
        "- We need to investigate each feature properly"
      ]
    },
    {
      "cell_type": "code",
      "execution_count": 35,
      "metadata": {
        "id": "68NeELsnQYLe"
      },
      "outputs": [],
      "source": [
        "## write your code here\n"
      ]
    },
    {
      "cell_type": "markdown",
      "metadata": {
        "id": "6ncE8puRQV3G"
      },
      "source": [
        "## id feature"
      ]
    },
    {
      "cell_type": "code",
      "execution_count": 36,
      "metadata": {
        "id": "-H5ovpAmPjbL"
      },
      "outputs": [],
      "source": [
        "## write your code here\n"
      ]
    },
    {
      "cell_type": "code",
      "execution_count": null,
      "metadata": {
        "id": "KepFLzUMQeMD"
      },
      "outputs": [],
      "source": []
    },
    {
      "cell_type": "markdown",
      "metadata": {
        "id": "72T2_GNdQj90"
      },
      "source": [
        "## gender"
      ]
    },
    {
      "cell_type": "code",
      "execution_count": 37,
      "metadata": {
        "id": "UtV3KGWJQfpS"
      },
      "outputs": [],
      "source": [
        "## write your code here (check dtypes first)\n"
      ]
    },
    {
      "cell_type": "code",
      "execution_count": 38,
      "metadata": {
        "id": "k0YlhcJaQnaj"
      },
      "outputs": [],
      "source": [
        "## write your code here\n"
      ]
    },
    {
      "cell_type": "code",
      "execution_count": 39,
      "metadata": {
        "id": "qt7WIpkcQr2q"
      },
      "outputs": [],
      "source": [
        "## write your code here for calculating frequency count of gender column\n"
      ]
    },
    {
      "cell_type": "code",
      "execution_count": null,
      "metadata": {
        "id": "htc1l7qRQ7uY"
      },
      "outputs": [],
      "source": []
    },
    {
      "cell_type": "code",
      "execution_count": 40,
      "metadata": {
        "id": "3t3teBBpQ-G7"
      },
      "outputs": [],
      "source": [
        "## write your code here\n"
      ]
    },
    {
      "cell_type": "code",
      "execution_count": null,
      "metadata": {
        "id": "IfwE2PwgRVjP"
      },
      "outputs": [],
      "source": []
    },
    {
      "cell_type": "markdown",
      "metadata": {
        "id": "mvVf-tfFoV9t"
      },
      "source": [
        "## Create Piechart Or Bargraph For Univariate Analysis Of Categorical Feature"
      ]
    },
    {
      "cell_type": "code",
      "execution_count": 41,
      "metadata": {
        "id": "eSD2OxtfRXIk"
      },
      "outputs": [],
      "source": [
        "## write your code here\n"
      ]
    },
    {
      "cell_type": "markdown",
      "metadata": {
        "id": "Hi_BQvAkSDAj"
      },
      "source": [
        "## smoking status"
      ]
    },
    {
      "cell_type": "code",
      "execution_count": 42,
      "metadata": {
        "id": "N8hTdzjQRk6O"
      },
      "outputs": [],
      "source": [
        "## write your code here\n"
      ]
    },
    {
      "cell_type": "code",
      "execution_count": 43,
      "metadata": {
        "id": "86qKBQ95SOWZ"
      },
      "outputs": [],
      "source": [
        "## write your code here\n"
      ]
    },
    {
      "cell_type": "code",
      "execution_count": 44,
      "metadata": {
        "id": "YaDqAvGpSWwY"
      },
      "outputs": [],
      "source": [
        "## write your code here\n"
      ]
    },
    {
      "cell_type": "code",
      "execution_count": 45,
      "metadata": {
        "id": "r92tbwSJSkIv"
      },
      "outputs": [],
      "source": [
        "## write your code here\n"
      ]
    },
    {
      "cell_type": "code",
      "execution_count": null,
      "metadata": {
        "id": "AjTVNVxiSwFm"
      },
      "outputs": [],
      "source": []
    },
    {
      "cell_type": "code",
      "execution_count": null,
      "metadata": {
        "id": "SvLZymRpTFKs"
      },
      "outputs": [],
      "source": []
    },
    {
      "cell_type": "markdown",
      "metadata": {
        "id": "vpYyqjGNophN"
      },
      "source": [
        "## Plot figure (Barchart)"
      ]
    },
    {
      "cell_type": "code",
      "execution_count": null,
      "metadata": {
        "id": "FhzyX-NtTXQB"
      },
      "outputs": [],
      "source": []
    },
    {
      "cell_type": "code",
      "execution_count": 46,
      "metadata": {
        "id": "aLV1D1P0TH0S"
      },
      "outputs": [],
      "source": [
        "## write your code here (use seaborn)\n"
      ]
    },
    {
      "cell_type": "markdown",
      "metadata": {
        "id": "CF7Nkt_2T3bM"
      },
      "source": [
        "## hypertension"
      ]
    },
    {
      "cell_type": "code",
      "execution_count": 47,
      "metadata": {
        "id": "JJtYr91WT6kc"
      },
      "outputs": [],
      "source": [
        "## write your code here\n"
      ]
    },
    {
      "cell_type": "code",
      "execution_count": 48,
      "metadata": {
        "id": "VmXA47dSUChR"
      },
      "outputs": [],
      "source": [
        "## write your code here (show graph)\n"
      ]
    },
    {
      "cell_type": "markdown",
      "metadata": {
        "id": "-1CQbv7iUbcl"
      },
      "source": [
        "## stroke feature"
      ]
    },
    {
      "cell_type": "code",
      "execution_count": 49,
      "metadata": {
        "id": "HsJogkAMUdMB"
      },
      "outputs": [],
      "source": [
        "## write your code here\n"
      ]
    },
    {
      "cell_type": "code",
      "execution_count": 50,
      "metadata": {
        "id": "_D-g2NbkUdSj"
      },
      "outputs": [],
      "source": [
        "## write your code here(piechart)\n"
      ]
    },
    {
      "cell_type": "markdown",
      "metadata": {
        "id": "gTTbq1PiUR32"
      },
      "source": [
        "# Bivariate Analysis\n",
        "## Is there a chance that patients with hypertension has more likely to get a stroke or not? (cross_tab function)"
      ]
    },
    {
      "cell_type": "code",
      "execution_count": 51,
      "metadata": {
        "id": "ThzCvC9sTl5n"
      },
      "outputs": [],
      "source": [
        "## write your code here\n"
      ]
    },
    {
      "cell_type": "markdown",
      "metadata": {
        "id": "LtsOO7YmV0eD"
      },
      "source": [
        "## Hypothesis Testing (Chisquare test for Independence)\n",
        "\n",
        "\n",
        "chi2, p, dof, expected = chi2_contingency(stroke_hypertension_df)"
      ]
    },
    {
      "cell_type": "code",
      "execution_count": null,
      "metadata": {
        "id": "aBEHqaZypJhz"
      },
      "outputs": [],
      "source": []
    },
    {
      "cell_type": "code",
      "execution_count": 52,
      "metadata": {
        "id": "-9vhMDdqV01Q"
      },
      "outputs": [],
      "source": [
        "from scipy.stats import chi2_contingency"
      ]
    },
    {
      "cell_type": "code",
      "execution_count": 53,
      "metadata": {
        "id": "Y_rB2cTIVWEO"
      },
      "outputs": [],
      "source": [
        "# Perform Chi-square test\n",
        "\n"
      ]
    },
    {
      "cell_type": "markdown",
      "metadata": {
        "id": "ufOhe3T9WcsO"
      },
      "source": [
        "## Group Barplot"
      ]
    },
    {
      "cell_type": "code",
      "execution_count": 54,
      "metadata": {
        "id": "5cIzszcLWUo_"
      },
      "outputs": [],
      "source": [
        "## write your code here\n"
      ]
    },
    {
      "cell_type": "code",
      "execution_count": 55,
      "metadata": {
        "id": "HULtKCswWnMt"
      },
      "outputs": [],
      "source": [
        "# Plot using Seaborn\n",
        "\n"
      ]
    },
    {
      "cell_type": "markdown",
      "metadata": {
        "id": "nuRlc2MHXcXn"
      },
      "source": [
        "## heart disease"
      ]
    },
    {
      "cell_type": "code",
      "execution_count": 56,
      "metadata": {
        "id": "Nr6S55KcW8gN"
      },
      "outputs": [],
      "source": [
        "## write your code here\n"
      ]
    },
    {
      "cell_type": "code",
      "execution_count": 57,
      "metadata": {
        "id": "yyTfktueXwPa"
      },
      "outputs": [],
      "source": [
        "## write your code here\n"
      ]
    },
    {
      "cell_type": "markdown",
      "metadata": {
        "id": "vu_GERuWXnwD"
      },
      "source": [
        "## Hypothesis Testing (Chisquare test for Independence)\n"
      ]
    },
    {
      "cell_type": "code",
      "execution_count": 58,
      "metadata": {
        "id": "LyYbz6JzXgry"
      },
      "outputs": [],
      "source": [
        "# Perform Chi-square test\n",
        "\n"
      ]
    },
    {
      "cell_type": "markdown",
      "metadata": {
        "id": "Wwjfrp15YCRd"
      },
      "source": [
        "## Group Bar plot"
      ]
    },
    {
      "cell_type": "code",
      "execution_count": 59,
      "metadata": {
        "id": "26IAU0CUX-pn"
      },
      "outputs": [],
      "source": [
        "## write your code here with long format table\n"
      ]
    },
    {
      "cell_type": "code",
      "execution_count": 60,
      "metadata": {
        "id": "FG2r0VgUYWcj"
      },
      "outputs": [],
      "source": [
        "## write your code here\n"
      ]
    },
    {
      "cell_type": "code",
      "execution_count": null,
      "metadata": {
        "id": "P9Ml4bE6YjY5"
      },
      "outputs": [],
      "source": []
    },
    {
      "cell_type": "code",
      "execution_count": null,
      "metadata": {
        "id": "JoPCIcQQYy6c"
      },
      "outputs": [],
      "source": []
    },
    {
      "cell_type": "code",
      "execution_count": null,
      "metadata": {
        "id": "mn2-44UgYy-p"
      },
      "outputs": [],
      "source": []
    },
    {
      "cell_type": "code",
      "execution_count": null,
      "metadata": {
        "id": "DEStIMU5YzDA"
      },
      "outputs": [],
      "source": []
    },
    {
      "cell_type": "markdown",
      "metadata": {
        "id": "kY8OEbjOYz_n"
      },
      "source": [
        "## Numerical Features"
      ]
    },
    {
      "cell_type": "code",
      "execution_count": 61,
      "metadata": {
        "id": "vKovecgVY4XD"
      },
      "outputs": [],
      "source": [
        "# select numerical features\n",
        "## write your code here\n"
      ]
    },
    {
      "cell_type": "markdown",
      "metadata": {
        "id": "oze9WaJeZg1j"
      },
      "source": [
        "## age column"
      ]
    },
    {
      "cell_type": "code",
      "execution_count": 62,
      "metadata": {
        "id": "ho4MBiwJZFSz"
      },
      "outputs": [],
      "source": [
        "## write your code here (for histogram)\n"
      ]
    },
    {
      "cell_type": "code",
      "execution_count": 63,
      "metadata": {
        "id": "I3Zd7-fMZSqA"
      },
      "outputs": [],
      "source": [
        "## write your code here (for kde plot)\n"
      ]
    },
    {
      "cell_type": "code",
      "execution_count": 64,
      "metadata": {
        "id": "Qd_mvJfsaPxf"
      },
      "outputs": [],
      "source": [
        "## write your code here (for outlier analysis using boxplot)\n"
      ]
    },
    {
      "cell_type": "code",
      "execution_count": null,
      "metadata": {
        "id": "K-k5xhxuZbvT"
      },
      "outputs": [],
      "source": []
    },
    {
      "cell_type": "markdown",
      "metadata": {
        "id": "uEgcrDrNZ36B"
      },
      "source": [
        "## Bmi column"
      ]
    },
    {
      "cell_type": "code",
      "execution_count": 65,
      "metadata": {
        "id": "EsZqBKByZkmu"
      },
      "outputs": [],
      "source": [
        "## write your code here (for histogram)\n"
      ]
    },
    {
      "cell_type": "code",
      "execution_count": 66,
      "metadata": {
        "id": "uS6q70cpZ9BM"
      },
      "outputs": [],
      "source": [
        "## write your code here (for kde plot)"
      ]
    },
    {
      "cell_type": "code",
      "execution_count": null,
      "metadata": {
        "id": "A_n8remsaBov"
      },
      "outputs": [],
      "source": []
    },
    {
      "cell_type": "code",
      "execution_count": 67,
      "metadata": {
        "id": "7FlzRT1PaMG4"
      },
      "outputs": [],
      "source": [
        "## write your code here (for boxplot outlier analysis)\n"
      ]
    },
    {
      "cell_type": "markdown",
      "metadata": {
        "id": "qrqg2Tc4hbh-"
      },
      "source": [
        "### Hypothesis Test For Normality\n",
        "\n",
        "\n",
        "# Perform Kolmogorov-Smirnov test\n",
        "statistic, pvalue = kstest(final_df['bmi'], 'norm')\n",
        "\n",
        "# Print the result\n",
        "print(\"Kolmogorov-Smirnov Test Statistic:\", statistic)\n",
        "\n",
        "print(\"p-value:\", pvalue)\n",
        "\n",
        "# Interpret the results\n",
        "alpha = 0.05  # Significance level\n",
        "\n",
        "if pvalue > alpha:\n",
        "    print(\"Sample looks Gaussian (fail to reject H0)\")\n",
        "    \n",
        "else:\n",
        "    print(\"Sample does not look Gaussian (reject H0)\")\n"
      ]
    },
    {
      "cell_type": "code",
      "execution_count": 68,
      "metadata": {
        "id": "bQO-iM8ego4K"
      },
      "outputs": [],
      "source": [
        "from scipy.stats import kstest, shapiro"
      ]
    },
    {
      "cell_type": "markdown",
      "metadata": {
        "id": "5YiAa1gHahk3"
      },
      "source": [
        "## Scatterplots"
      ]
    },
    {
      "cell_type": "code",
      "execution_count": 69,
      "metadata": {
        "id": "Qar1MmSJaj2W"
      },
      "outputs": [],
      "source": [
        "## write your code here\n"
      ]
    },
    {
      "cell_type": "markdown",
      "metadata": {
        "id": "qlYbOrl_qBtC"
      },
      "source": [
        "## Correlation Plots and Heatmaps"
      ]
    },
    {
      "cell_type": "code",
      "execution_count": 70,
      "metadata": {
        "id": "8k5My7vgbAKZ"
      },
      "outputs": [],
      "source": [
        "## write your code here\n"
      ]
    },
    {
      "cell_type": "code",
      "execution_count": null,
      "metadata": {
        "id": "-Kj76sN1bUGS"
      },
      "outputs": [],
      "source": []
    },
    {
      "cell_type": "code",
      "execution_count": null,
      "metadata": {
        "id": "DEIlMKKNfztU"
      },
      "outputs": [],
      "source": []
    }
  ],
  "metadata": {
    "colab": {
      "provenance": []
    },
    "kernelspec": {
      "display_name": "Python 3",
      "name": "python3"
    },
    "language_info": {
      "codemirror_mode": {
        "name": "ipython",
        "version": 3
      },
      "file_extension": ".py",
      "mimetype": "text/x-python",
      "name": "python",
      "nbconvert_exporter": "python",
      "pygments_lexer": "ipython3",
      "version": "3.11.5"
    }
  },
  "nbformat": 4,
  "nbformat_minor": 0
}
